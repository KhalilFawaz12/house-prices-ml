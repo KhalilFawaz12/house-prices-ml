{
 "cells": [
  {
   "cell_type": "markdown",
   "id": "eb49cefe-a106-4727-84ac-8079ec9485e2",
   "metadata": {},
   "source": [
    "# Final analysis — EDA to model"
   ]
  },
  {
   "cell_type": "code",
   "execution_count": null,
   "id": "d4b0d765-7bef-4194-b831-874d1eab04b1",
   "metadata": {},
   "outputs": [],
   "source": []
  }
 ],
 "metadata": {
  "kernelspec": {
   "display_name": "Python 3 (ipykernel)",
   "language": "python",
   "name": "python3"
  },
  "language_info": {
   "codemirror_mode": {
    "name": "ipython",
    "version": 3
   },
   "file_extension": ".py",
   "mimetype": "text/x-python",
   "name": "python",
   "nbconvert_exporter": "python",
   "pygments_lexer": "ipython3",
   "version": "3.10.9"
  }
 },
 "nbformat": 4,
 "nbformat_minor": 5
}
